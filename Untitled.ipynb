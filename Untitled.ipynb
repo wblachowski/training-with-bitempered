{
 "cells": [
  {
   "cell_type": "code",
   "execution_count": 1,
   "id": "09d29151",
   "metadata": {},
   "outputs": [],
   "source": [
    "from utils import generate_points, plot_points, mix\n",
    "import matplotlib.pyplot as plt\n",
    "import numpy as np\n",
    "from tensorflow.keras.models import Sequential\n",
    "from tensorflow.keras.layers import Dense, Dropout, Input\n",
    "from tensorflow.keras.losses import CategoricalCrossentropy\n",
    "from tensorflow.keras.optimizers import Adam"
   ]
  },
  {
   "cell_type": "code",
   "execution_count": 2,
   "id": "43e50d53",
   "metadata": {},
   "outputs": [
    {
     "data": {
      "image/png": "[encoded data removed]",
      "text/plain": [
       "<Figure size 432x288 with 2 Axes>"
      ]
     },
     "metadata": {
      "needs_background": "light"
     },
     "output_type": "display_data"
    }
   ],
   "source": [
    "blue_train = generate_points(1200, 0 ,5)\n",
    "red_train = generate_points(1200, 6, 8)\n",
    "mix(blue_train, red_train, 0, 8, 0.2)\n",
    "plt.subplot(1, 2, 1)\n",
    "plt.title(\"Training data\")\n",
    "plot_points([blue_train, red_train], 8)\n",
    "\n",
    "blue_test = generate_points(300, 0 ,5)\n",
    "red_test = generate_points(300, 6, 8)\n",
    "plt.subplot(1, 2, 2)\n",
    "plt.title(\"Test data\")\n",
    "plot_points([blue_test, red_test], 8)\n",
    "plt.show()"
   ]
  },
  {
   "cell_type": "code",
   "execution_count": 3,
   "id": "be8a7b94",
   "metadata": {},
   "outputs": [],
   "source": [
    "X_train = np.concatenate((blue_train, red_train))\n",
    "Y_train = np.concatenate((np.full((len(blue_train),2), [1,0]), np.full((len(red_train),2), [0,1])))\n",
    "X_test = np.concatenate((blue_test, red_test))\n",
    "Y_test = np.concatenate((np.full((len(blue_test),2), [1,0]), np.full((len(red_test),2), [0,1])))"
   ]
  },
  {
   "cell_type": "code",
   "execution_count": 4,
   "id": "2c5e6972",
   "metadata": {},
   "outputs": [],
   "source": [
    "model = Sequential([\n",
    "    Input(shape=(len(X_train[0], ))),\n",
    "    Dense(128, activation='relu'),\n",
    "    Dropout(0.25),\n",
    "    Dense(128, activation='relu'),\n",
    "    Dropout(0.5),\n",
    "    Dense(2)\n",
    "])\n",
    "model.compile(loss=CategoricalCrossentropy(), optimizer=Adam(), metrics=['accuracy'])"
   ]
  },
  {
   "cell_type": "code",
   "execution_count": 5,
   "id": "9cd020fc",
   "metadata": {},
   "outputs": [
    {
     "name": "stdout",
     "output_type": "stream",
     "text": [
      "Epoch 1/20\n",
      "75/75 [==============================] - 2s 6ms/step - loss: 1.4224 - accuracy: 0.5350 - val_loss: 0.6565 - val_accuracy: 0.6567\n",
      "Epoch 2/20\n",
      "75/75 [==============================] - 0s 4ms/step - loss: 0.7124 - accuracy: 0.5483 - val_loss: 0.6424 - val_accuracy: 0.6583\n",
      "Epoch 3/20\n",
      "75/75 [==============================] - 0s 4ms/step - loss: 0.6845 - accuracy: 0.5671 - val_loss: 0.6368 - val_accuracy: 0.7683\n",
      "Epoch 4/20\n",
      "75/75 [==============================] - 0s 4ms/step - loss: 0.6855 - accuracy: 0.5579 - val_loss: 0.6308 - val_accuracy: 0.8117\n",
      "Epoch 5/20\n",
      "75/75 [==============================] - 0s 4ms/step - loss: 0.6716 - accuracy: 0.5825 - val_loss: 0.6151 - val_accuracy: 0.7633\n",
      "Epoch 6/20\n",
      "75/75 [==============================] - 0s 4ms/step - loss: 0.6637 - accuracy: 0.6008 - val_loss: 0.6007 - val_accuracy: 0.8350\n",
      "Epoch 7/20\n",
      "75/75 [==============================] - 0s 5ms/step - loss: 0.6689 - accuracy: 0.6196 - val_loss: 0.5821 - val_accuracy: 0.8267\n",
      "Epoch 8/20\n",
      "75/75 [==============================] - 0s 5ms/step - loss: 0.6533 - accuracy: 0.6325 - val_loss: 0.5895 - val_accuracy: 0.8950\n",
      "Epoch 9/20\n",
      "75/75 [==============================] - 0s 4ms/step - loss: 0.6651 - accuracy: 0.6304 - val_loss: 0.5718 - val_accuracy: 0.8167\n",
      "Epoch 10/20\n",
      "75/75 [==============================] - 0s 4ms/step - loss: 0.6405 - accuracy: 0.6467 - val_loss: 0.5426 - val_accuracy: 0.8850\n",
      "Epoch 11/20\n",
      "75/75 [==============================] - 0s 4ms/step - loss: 0.6330 - accuracy: 0.6600 - val_loss: 0.5294 - val_accuracy: 0.9400\n",
      "Epoch 12/20\n",
      "75/75 [==============================] - 0s 4ms/step - loss: 0.6270 - accuracy: 0.6742 - val_loss: 0.5103 - val_accuracy: 0.8950\n",
      "Epoch 13/20\n",
      "75/75 [==============================] - 0s 4ms/step - loss: 0.6135 - accuracy: 0.6858 - val_loss: 0.4876 - val_accuracy: 0.9333\n",
      "Epoch 14/20\n",
      "75/75 [==============================] - 0s 4ms/step - loss: 0.6199 - accuracy: 0.6750 - val_loss: 0.4982 - val_accuracy: 0.9300\n",
      "Epoch 15/20\n",
      "75/75 [==============================] - 0s 4ms/step - loss: 0.6098 - accuracy: 0.6938 - val_loss: 0.4636 - val_accuracy: 0.8850\n",
      "Epoch 16/20\n",
      "75/75 [==============================] - 0s 4ms/step - loss: 0.6011 - accuracy: 0.7004 - val_loss: 0.4583 - val_accuracy: 0.8867\n",
      "Epoch 17/20\n",
      "75/75 [==============================] - 0s 4ms/step - loss: 0.6168 - accuracy: 0.7038 - val_loss: 0.4604 - val_accuracy: 0.9283\n",
      "Epoch 18/20\n",
      "75/75 [==============================] - 0s 4ms/step - loss: 0.5995 - accuracy: 0.7079 - val_loss: 0.4373 - val_accuracy: 0.9300\n",
      "Epoch 19/20\n",
      "75/75 [==============================] - 0s 4ms/step - loss: 0.5898 - accuracy: 0.7129 - val_loss: 0.4078 - val_accuracy: 0.8717\n",
      "Epoch 20/20\n",
      "75/75 [==============================] - 0s 4ms/step - loss: 0.5925 - accuracy: 0.7212 - val_loss: 0.3925 - val_accuracy: 0.9283\n"
     ]
    },
    {
     "data": {
      "text/plain": [
       "<keras.callbacks.History at 0x2957bb4cb80>"
      ]
     },
     "execution_count": 5,
     "metadata": {},
     "output_type": "execute_result"
    }
   ],
   "source": [
    "model.fit(X_train, Y_train, validation_data=(X_test, Y_test), epochs=20)"
   ]
  }
 ],
 "metadata": {
  "kernelspec": {
   "display_name": "Python [conda env:calibration]",
   "language": "python",
   "name": "conda-env-calibration-py"
  },
  "language_info": {
   "codemirror_mode": {
    "name": "ipython",
    "version": 3
   },
   "file_extension": ".py",
   "mimetype": "text/x-python",
   "name": "python",
   "nbconvert_exporter": "python",
   "pygments_lexer": "ipython3",
   "version": "3.8.11"
  }
 },
 "nbformat": 4,
 "nbformat_minor": 5
}
